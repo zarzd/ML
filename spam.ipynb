{
 "cells": [
  {
   "cell_type": "code",
   "execution_count": 40,
   "id": "initial_id",
   "metadata": {
    "collapsed": true,
    "ExecuteTime": {
     "end_time": "2023-12-10T14:20:09.217078900Z",
     "start_time": "2023-12-10T14:20:09.185900400Z"
    }
   },
   "outputs": [
    {
     "data": {
      "text/plain": "(1956, 5)"
     },
     "execution_count": 40,
     "metadata": {},
     "output_type": "execute_result"
    }
   ],
   "source": [
    "import pandas as pd\n",
    "from sklearn.feature_extraction.text import CountVectorizer\n",
    "from sklearn.model_selection import train_test_split\n",
    "from sklearn.ensemble import RandomForestClassifier\n",
    "data_1 = pd.read_csv(\"data/Youtube01-Psy.csv\")\n",
    "data_2 = pd.read_csv(\"data/Youtube03-LMFAO.csv\")\n",
    "data_3 = pd.read_csv(\"data/Youtube02-KatyPerry.csv\")\n",
    "data_4 = pd.read_csv(\"data/Youtube04-Eminem.csv\")\n",
    "data_5 = pd.read_csv(\"data/Youtube05-Shakira.csv\")\n",
    "data = pd.concat([data_1, data_2, data_3, data_4, data_5])\n",
    "data.shape"
   ]
  },
  {
   "cell_type": "code",
   "execution_count": 41,
   "outputs": [
    {
     "data": {
      "text/plain": "                                             CONTENT  CLASS\n0  Huh, anyway check out this you[tube] channel: ...      1\n1  Hey guys check out my new channel and our firs...      1\n2             just for test I have to say murdev.com      1\n3   me shaking my sexy ass on my channel enjoy ^_^ ﻿      1\n4            watch?v=vtaRGgvGtWQ   Check this out .﻿      1",
      "text/html": "<div>\n<style scoped>\n    .dataframe tbody tr th:only-of-type {\n        vertical-align: middle;\n    }\n\n    .dataframe tbody tr th {\n        vertical-align: top;\n    }\n\n    .dataframe thead th {\n        text-align: right;\n    }\n</style>\n<table border=\"1\" class=\"dataframe\">\n  <thead>\n    <tr style=\"text-align: right;\">\n      <th></th>\n      <th>CONTENT</th>\n      <th>CLASS</th>\n    </tr>\n  </thead>\n  <tbody>\n    <tr>\n      <th>0</th>\n      <td>Huh, anyway check out this you[tube] channel: ...</td>\n      <td>1</td>\n    </tr>\n    <tr>\n      <th>1</th>\n      <td>Hey guys check out my new channel and our firs...</td>\n      <td>1</td>\n    </tr>\n    <tr>\n      <th>2</th>\n      <td>just for test I have to say murdev.com</td>\n      <td>1</td>\n    </tr>\n    <tr>\n      <th>3</th>\n      <td>me shaking my sexy ass on my channel enjoy ^_^ ﻿</td>\n      <td>1</td>\n    </tr>\n    <tr>\n      <th>4</th>\n      <td>watch?v=vtaRGgvGtWQ   Check this out .﻿</td>\n      <td>1</td>\n    </tr>\n  </tbody>\n</table>\n</div>"
     },
     "execution_count": 41,
     "metadata": {},
     "output_type": "execute_result"
    }
   ],
   "source": [
    "data = data[[\"CONTENT\",\"CLASS\"]]\n",
    "data.head()"
   ],
   "metadata": {
    "collapsed": false,
    "ExecuteTime": {
     "end_time": "2023-12-10T14:20:09.232206700Z",
     "start_time": "2023-12-10T14:20:09.217078900Z"
    }
   },
   "id": "579eaeb18926c01d"
  },
  {
   "cell_type": "code",
   "execution_count": 43,
   "outputs": [
    {
     "name": "stdout",
     "output_type": "stream",
     "text": [
      "0.9693877551020408\n"
     ]
    }
   ],
   "source": [
    "cv = CountVectorizer()\n",
    "x = cv.fit_transform(data[\"CONTENT\"])\n",
    "y = data[\"CLASS\"]\n",
    "x_train, x_test, y_train, y_test = train_test_split(x,y,random_state=42, test_size=0.2)\n",
    "clf = RandomForestClassifier()\n",
    "model = clf.fit(x_train, y_train)\n",
    "print(model.score(x_test,y_test))"
   ],
   "metadata": {
    "collapsed": false,
    "ExecuteTime": {
     "end_time": "2023-12-10T14:20:13.114943Z",
     "start_time": "2023-12-10T14:20:09.246980Z"
    }
   },
   "id": "a43791781baf4b3d"
  },
  {
   "cell_type": "code",
   "execution_count": 44,
   "outputs": [
    {
     "name": "stdout",
     "output_type": "stream",
     "text": [
      "[1]\n"
     ]
    }
   ],
   "source": [
    "sample = \"Check this out: https://thecleverprogrammer.com/\" \n",
    "data = cv.transform([sample])\n",
    "print(model.predict(data))"
   ],
   "metadata": {
    "collapsed": false,
    "ExecuteTime": {
     "end_time": "2023-12-10T14:20:13.128469500Z",
     "start_time": "2023-12-10T14:20:13.110089600Z"
    }
   },
   "id": "fd68c03029f746a5"
  },
  {
   "cell_type": "code",
   "execution_count": 44,
   "outputs": [],
   "source": [],
   "metadata": {
    "collapsed": false,
    "ExecuteTime": {
     "end_time": "2023-12-10T14:20:13.157614200Z",
     "start_time": "2023-12-10T14:20:13.124266100Z"
    }
   },
   "id": "8d8d71e1c35ab7f6"
  },
  {
   "cell_type": "code",
   "execution_count": 44,
   "outputs": [],
   "source": [],
   "metadata": {
    "collapsed": false,
    "ExecuteTime": {
     "end_time": "2023-12-10T14:20:13.158640500Z",
     "start_time": "2023-12-10T14:20:13.131289200Z"
    }
   },
   "id": "72233f1d9e278a8d"
  }
 ],
 "metadata": {
  "kernelspec": {
   "display_name": "Python 3",
   "language": "python",
   "name": "python3"
  },
  "language_info": {
   "codemirror_mode": {
    "name": "ipython",
    "version": 2
   },
   "file_extension": ".py",
   "mimetype": "text/x-python",
   "name": "python",
   "nbconvert_exporter": "python",
   "pygments_lexer": "ipython2",
   "version": "2.7.6"
  }
 },
 "nbformat": 4,
 "nbformat_minor": 5
}
